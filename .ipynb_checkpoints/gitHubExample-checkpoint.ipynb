{
 "cells": [
  {
   "cell_type": "markdown",
   "id": "cc94b15e",
   "metadata": {},
   "source": [
    "# MANE 3351\n",
    "## Laboratory 5 - GitHub Desktop Example\n",
    "### Your Name"
   ]
  },
  {
   "cell_type": "code",
   "execution_count": null,
   "id": "5b7626ea",
   "metadata": {},
   "outputs": [],
   "source": [
    "# Code Block for Python\n",
    "# Future labs will require adding code in this blocak"
   ]
  }
 ],
 "metadata": {
  "kernelspec": {
   "display_name": "Python 3 (ipykernel)",
   "language": "python",
   "name": "python3"
  },
  "language_info": {
   "codemirror_mode": {
    "name": "ipython",
    "version": 3
   },
   "file_extension": ".py",
   "mimetype": "text/x-python",
   "name": "python",
   "nbconvert_exporter": "python",
   "pygments_lexer": "ipython3",
   "version": "3.10.12"
  }
 },
 "nbformat": 4,
 "nbformat_minor": 5
}
